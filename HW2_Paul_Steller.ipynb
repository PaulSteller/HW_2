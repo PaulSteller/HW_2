{
 "cells": [
  {
   "cell_type": "markdown",
   "metadata": {},
   "source": [
    "# Homework 2, Python Part, Paul Steller"
   ]
  },
  {
   "cell_type": "code",
   "execution_count": 144,
   "metadata": {},
   "outputs": [],
   "source": [
    "import numpy as np\n",
    "import matplotlib.pyplot as plt\n",
    "import math\n",
    "import pandas as pd\n",
    "import csv\n",
    "from statistics import mean\n",
    "from sklearn.linear_model import LinearRegression\n",
    "from numpy.linalg import inv\n",
    "from sklearn.linear_model import Lasso"
   ]
  },
  {
   "cell_type": "markdown",
   "metadata": {},
   "source": [
    "## 3) Recall from the first problem set that $\\hat{\\beta}_{ridge}=(X^TX+\\alpha I)^{-1}X^Ty$. Use Python to numerically verify the solution computed in Problem (1) in the special case $X=1_{1 \\times p}, y=1$, for some values of p."
   ]
  },
  {
   "cell_type": "code",
   "execution_count": 145,
   "metadata": {},
   "outputs": [
    {
     "name": "stdout",
     "output_type": "stream",
     "text": [
      "for p = 1\n",
      "the solution using Bridge is [[0.66666667]]\n",
      "the solution using 1/(alpha + p) 1 is  [[0.66666667]]\n",
      "for p = 5\n",
      "the solution using Bridge is [[0.18181818]\n",
      " [0.18181818]\n",
      " [0.18181818]\n",
      " [0.18181818]\n",
      " [0.18181818]]\n",
      "the solution using 1/(alpha + p) 1 is  [[0.18181818]\n",
      " [0.18181818]\n",
      " [0.18181818]\n",
      " [0.18181818]\n",
      " [0.18181818]]\n",
      "for p = 10\n",
      "the solution using Bridge is [[0.0952381]\n",
      " [0.0952381]\n",
      " [0.0952381]\n",
      " [0.0952381]\n",
      " [0.0952381]\n",
      " [0.0952381]\n",
      " [0.0952381]\n",
      " [0.0952381]\n",
      " [0.0952381]\n",
      " [0.0952381]]\n",
      "the solution using 1/(alpha + p) 1 is  [[0.0952381]\n",
      " [0.0952381]\n",
      " [0.0952381]\n",
      " [0.0952381]\n",
      " [0.0952381]\n",
      " [0.0952381]\n",
      " [0.0952381]\n",
      " [0.0952381]\n",
      " [0.0952381]\n",
      " [0.0952381]]\n"
     ]
    }
   ],
   "source": [
    "for p in [1,5,10]:\n",
    "    X = np.ones((1,p))\n",
    "    y = 1\n",
    "    alpha = 0.5\n",
    "    B_ridge_soln = np.dot(inv(np.dot(X.transpose(), X) + alpha * np.identity(p)), np.dot(X.transpose(), y))\n",
    "    problem_1_soln = (1/(alpha + p))* np.ones((1,p))\n",
    "    print('for p =',p)\n",
    "    print('the solution using Bridge is', B_ridge_soln)\n",
    "    print('the solution using 1/(alpha + p) 1 is ',problem_1_soln.transpose())\n",
    "    #print(B_ridge_soln == problem_1_soln.transpose())"
   ]
  },
  {
   "cell_type": "markdown",
   "metadata": {},
   "source": [
    "#### So we have equality between the two solutions"
   ]
  },
  {
   "cell_type": "markdown",
   "metadata": {},
   "source": [
    "## 4)"
   ]
  },
  {
   "cell_type": "markdown",
   "metadata": {},
   "source": [
    "### (a) Implement the coordinate descent algorithm discussed in class to compute the Lasso Solution"
   ]
  },
  {
   "cell_type": "code",
   "execution_count": 459,
   "metadata": {},
   "outputs": [],
   "source": [
    "from numpy.linalg import norm\n",
    "\n",
    "def lasso_by_hand(X,y, alpha = 0.5, tol = 0.00001):\n",
    "    X = pd.DataFrame(X)\n",
    "    #X[len(X.columns)]=np.ones(len(X)) #the intercept column\n",
    "    beta = np.ones((len(X.columns),1))\n",
    "    beta = pd.DataFrame(beta)\n",
    "    tolerance = (tol+1)*np.ones((len(X.columns),1))\n",
    "    alpha2 = alpha*(len(X.transpose().columns))\n",
    "    while np.any(np.array(tolerance) > np.array(tol*np.ones((len(X.columns),1)))):\n",
    "        test_beta = beta.copy()\n",
    "        tolerance = np.empty((len(X.columns),1))\n",
    "        for i in range(len(X.columns)):\n",
    "            x = []\n",
    "            epsilon = []\n",
    "            x = (X.iloc[:,i].transpose().dot(y) - X.iloc[:,i].transpose().dot(X.drop(columns=[i]).dot(beta.drop([i]))))/(X.iloc[:,i].transpose().dot(X.iloc[:,i]))\n",
    "            epsilon = alpha2/(np.linalg.norm(X.iloc[:,i],ord = 2)**2)\n",
    "            beta.iloc[i]= np.sign(x)*np.maximum(np.abs(x)-epsilon,0)\n",
    "        tolerance = np.abs(beta - test_beta)\n",
    "    solution = np.array(beta)\n",
    "    solution.reshape(1,len(X.columns))\n",
    "    return solution\n",
    "    print(solution)"
   ]
  },
  {
   "cell_type": "markdown",
   "metadata": {},
   "source": [
    "## (b) To confirm your implementation is correct, generate random data and compare the answer you get with your code with the lasso solution computed using $\\texttt{scikit-learn}$. (NOTE: Recall that the Lasso function in $\\texttt{scikit-learn}$ solves a slightly different problem.)"
   ]
  },
  {
   "cell_type": "code",
   "execution_count": 462,
   "metadata": {},
   "outputs": [
    {
     "name": "stdout",
     "output_type": "stream",
     "text": [
      "coefficients from scikit-learn: [[ 0.        ]\n",
      " [ 0.        ]\n",
      " [ 0.        ]\n",
      " [ 0.82079529]\n",
      " [ 0.30276413]\n",
      " [ 0.        ]\n",
      " [-0.        ]\n",
      " [ 0.83395501]\n",
      " [ 0.41383987]\n",
      " [ 0.45492893]]\n",
      "solution from my implementation of the algorithm: [[ 0.        ]\n",
      " [ 0.        ]\n",
      " [ 0.        ]\n",
      " [ 0.82079277]\n",
      " [ 0.30276244]\n",
      " [ 0.        ]\n",
      " [-0.        ]\n",
      " [ 0.83395511]\n",
      " [ 0.41383954]\n",
      " [ 0.45492925]]\n",
      "the difference between the two solutions: [[ 0.00000000e+00]\n",
      " [ 0.00000000e+00]\n",
      " [ 0.00000000e+00]\n",
      " [ 2.51948330e-06]\n",
      " [ 1.69031562e-06]\n",
      " [ 0.00000000e+00]\n",
      " [ 0.00000000e+00]\n",
      " [-1.05267038e-07]\n",
      " [ 3.28776233e-07]\n",
      " [-3.16271194e-07]]\n"
     ]
    }
   ],
   "source": [
    "n = 100\n",
    "p = 10\n",
    "X = np.random.randn(n,p)\n",
    "epsilon = np.random.randn(n,1)\n",
    "beta = np.random.rand(p)\n",
    "beta = beta.reshape(len(beta),1)\n",
    "y = X.dot(beta)+epsilon\n",
    "\n",
    "\n",
    "\n",
    "clf = Lasso(alpha = 0.5, fit_intercept = False)\n",
    "clf.fit(X,y)\n",
    "print('coefficients from scikit-learn:', clf.coef_.reshape(p,1)) \n",
    "#print('y-intercept from scikit-learn:', clf.intercept_)\n",
    "solution = lasso_by_hand(X,y)\n",
    "print('solution from my implementation of the algorithm:', solution)\n",
    "\n",
    "\n",
    "#print('coefficients from my implementation of the algorithm:', solution[0:-1])\n",
    "#print('y-intercept from my implementation:', solution[-1])\n",
    "print('the difference between the two solutions:', clf.coef_.reshape(p,1) - solution)\n",
    "\n"
   ]
  },
  {
   "cell_type": "markdown",
   "metadata": {},
   "source": [
    "## 5) Consider the $\\texttt{Boston}$ dataset."
   ]
  },
  {
   "cell_type": "code",
   "execution_count": 231,
   "metadata": {},
   "outputs": [],
   "source": [
    "from sklearn.datasets import load_boston\n",
    "from sklearn.model_selection import train_test_split\n",
    "from itertools import combinations"
   ]
  },
  {
   "cell_type": "markdown",
   "metadata": {},
   "source": [
    "### (a) Split the dataset into a training and a test set."
   ]
  },
  {
   "cell_type": "code",
   "execution_count": 232,
   "metadata": {},
   "outputs": [],
   "source": [
    "X,y = load_boston(return_X_y=True)\n",
    "X_train, X_test, y_train, y_test = train_test_split(X,y, test_size = 0.25, random_state= 42)\n",
    "\n"
   ]
  },
  {
   "cell_type": "markdown",
   "metadata": {},
   "source": [
    "### (b) Compute the test $R^2$ of the linear regression model for every subset of variables. NOTE: Start by finding how one can loop over every subset of a given set of indices."
   ]
  },
  {
   "cell_type": "markdown",
   "metadata": {},
   "source": [
    "I used the following code to figure out how to loop over every subset and find the R^2 value:"
   ]
  },
  {
   "cell_type": "code",
   "execution_count": 233,
   "metadata": {},
   "outputs": [
    {
     "name": "stdout",
     "output_type": "stream",
     "text": [
      "Columns used: [0]\n",
      "The R^2 value is:  0.14746767707824282\n",
      "\n",
      "Columns used: [1]\n",
      "The R^2 value is:  0.1996419727695138\n",
      "\n",
      "Columns used: [2]\n",
      "The R^2 value is:  0.265466592031395\n",
      "\n",
      "Columns used: [0, 1]\n",
      "The R^2 value is:  0.30972161413133703\n",
      "\n",
      "Columns used: [0, 2]\n",
      "The R^2 value is:  0.3092642556384628\n",
      "\n",
      "Columns used: [1, 2]\n",
      "The R^2 value is:  0.30487337617265653\n",
      "\n",
      "Columns used: [0, 1, 2]\n",
      "The R^2 value is:  0.3516544317812914\n",
      "\n"
     ]
    }
   ],
   "source": [
    "num_of_predictors = 3\n",
    "for i in range(1,num_of_predictors+1):\n",
    "    combi = list(combinations(range(num_of_predictors),i))\n",
    "    \n",
    "    for c in combi:\n",
    "        c = list(c)\n",
    "        print('Columns used:', c)\n",
    "        #print(X_train.iloc[:,c].head())  \n",
    "        lin_reg=LinearRegression()\n",
    "        lin_reg.fit(X_train[:,c], y_train)\n",
    "        print('The R^2 value is: ', lin_reg.score(X_test[:,c],y_test))\n",
    "        print()"
   ]
  },
  {
   "cell_type": "markdown",
   "metadata": {},
   "source": [
    "### (c) Display the $R^2$ as a function of the number of variables used (construct a figure similar to the figure on page 3 of Slides 4."
   ]
  },
  {
   "cell_type": "code",
   "execution_count": 8,
   "metadata": {},
   "outputs": [
    {
     "data": {
      "image/png": "[encoded data removed]",
      "text/plain": [
       "<Figure size 432x288 with 1 Axes>"
      ]
     },
     "metadata": {
      "needs_background": "light"
     },
     "output_type": "display_data"
    }
   ],
   "source": [
    "plot_values = []\n",
    "for i in range(1,14):\n",
    "    combi = list(combinations(range(13),i))\n",
    "    for c in combi:\n",
    "        c = list(c)\n",
    "        lin_reg=LinearRegression()\n",
    "        lin_reg.fit(X_train[:,c], y_train)\n",
    "        plot_values.append([len(c), lin_reg.score(X_test[:,c],y_test)])\n",
    "plot_values = pd.DataFrame(plot_values)\n",
    "plt.scatter(plot_values.iloc[:,0], plot_values.iloc[:,1])\n",
    "plt.xlabel('Subset Size')\n",
    "plt.ylabel('Test R^2')\n",
    "plt.title('Prediction Score for all Subsets of Predictors')\n",
    "plt.show()"
   ]
  },
  {
   "cell_type": "markdown",
   "metadata": {},
   "source": [
    "## 6) The file $\\texttt{assay.csv}$ (available in the $\\texttt{Westbc}$ folder on Canvas) contains gene expression data ($p=7,129$ genes) for $n=49$ breast cancer tumor samples. The file $\\texttt{pheno.csv}$ contains a binary response variable for each sample (whether the sample tested positive or negative for cancer)."
   ]
  },
  {
   "cell_type": "markdown",
   "metadata": {},
   "source": [
    "### (a) Split the dataset into a training and a test set. Use the training set to train a Lasso model to predict the response variable from the gene expression data. Use cross-validation.\n",
    "### (b) Plot the cross-validation error curve (i.e., the average error as a function of the Lasso parameter $\\alpha$)."
   ]
  },
  {
   "cell_type": "code",
   "execution_count": 455,
   "metadata": {},
   "outputs": [],
   "source": [
    "from sklearn.model_selection import KFold\n",
    "from sklearn.linear_model import LassoCV"
   ]
  },
  {
   "cell_type": "markdown",
   "metadata": {},
   "source": [
    "#### Splitting the dataset:"
   ]
  },
  {
   "cell_type": "code",
   "execution_count": 478,
   "metadata": {},
   "outputs": [],
   "source": [
    "X = pd.read_csv('assay.csv')\n",
    "y = pd.read_csv('pheno.csv')\n",
    "X = X.transpose()\n",
    "for i in range(49):\n",
    "    if y.iloc[i,0] == 'negative':\n",
    "        y.iloc[i,0] = -1\n",
    "    else:\n",
    "        y.iloc[i,0] = 1\n",
    "X = np.array(X)\n",
    "y = np.array(y)\n",
    "y=y.reshape(49)\n",
    "X_train, X_test, y_train, y_test = train_test_split(X,y, test_size = 0.25, random_state= 42)"
   ]
  },
  {
   "cell_type": "markdown",
   "metadata": {},
   "source": [
    "#### Training a Lasso model using cross validation, and plotting the error vs. the alpha parameter:"
   ]
  },
  {
   "cell_type": "code",
   "execution_count": 505,
   "metadata": {},
   "outputs": [
    {
     "data": {
      "image/png": "[encoded data removed]",
      "text/plain": [
       "<Figure size 432x288 with 1 Axes>"
      ]
     },
     "metadata": {
      "needs_background": "light"
     },
     "output_type": "display_data"
    }
   ],
   "source": [
    "K=10\n",
    "alphas = np.exp(np.linspace(np.log(0.01),np.log(1),1000))\n",
    "num_alphas = len(alphas)\n",
    "\n",
    "scores = np.zeros((num_alphas,1))\n",
    "\n",
    "clf=LassoCV(alphas = alphas, cv = K)\n",
    "clf.fit(X_train, y_train)    \n",
    "\n",
    "scores_avg = clf.mse_path_.mean(axis = 1)\n",
    "\n",
    "plt.plot(clf.alphas, scores_avg)\n",
    "plt.xlabel('alpha value')\n",
    "plt.ylabel('mse')\n",
    "plt.show()"
   ]
  },
  {
   "cell_type": "markdown",
   "metadata": {},
   "source": [
    "### (c) According to the Lasso, which genes appear to be good predictors for this type of cancer?"
   ]
  },
  {
   "cell_type": "markdown",
   "metadata": {},
   "source": [
    "#### First, I find which alpha value gives the minimum error in the above graph:"
   ]
  },
  {
   "cell_type": "code",
   "execution_count": 506,
   "metadata": {},
   "outputs": [
    {
     "name": "stdout",
     "output_type": "stream",
     "text": [
      "minimum alpha: 0.147628147190939\n"
     ]
    }
   ],
   "source": [
    "min_error= np.argmin(scores_avg)\n",
    "alpha_min = clf.alphas[min_error]\n",
    "print('minimum alpha:', alpha_min)"
   ]
  },
  {
   "cell_type": "markdown",
   "metadata": {},
   "source": [
    "#### Using that alpha, we find the non-zero coefficients of the Lasso model"
   ]
  },
  {
   "cell_type": "code",
   "execution_count": 507,
   "metadata": {},
   "outputs": [
    {
     "name": "stdout",
     "output_type": "stream",
     "text": [
      "the number of important genes: 12\n",
      "the important genes: [131, 981, 1234, 2330, 3003, 3262, 3500, 4171, 4372, 5489, 6074, 6427]\n"
     ]
    }
   ],
   "source": [
    "lasso = Lasso(alpha = alpha_min)\n",
    "lasso.fit(X_train, y_train)\n",
    "print('the number of important genes:', np.count_nonzero(lasso.coef_))\n",
    "\n",
    "genes = []\n",
    "for i in range(len(lasso.coef_)):\n",
    "    if lasso.coef_[i] != 0:\n",
    "        genes.append(i)\n",
    "print('the important genes:', genes)"
   ]
  },
  {
   "cell_type": "markdown",
   "metadata": {},
   "source": [
    "### (d) Fit a linear regression model using only the variables selected by the Lasso with the optimal parameter chosen by cross-validation. Compute the prediction error on your test set."
   ]
  },
  {
   "cell_type": "code",
   "execution_count": 508,
   "metadata": {},
   "outputs": [
    {
     "name": "stdout",
     "output_type": "stream",
     "text": [
      "8\n",
      "13\n",
      "the model was correct 61.53846153846154 percent of the time.\n"
     ]
    }
   ],
   "source": [
    "linreg = LinearRegression()\n",
    "linreg.fit(X_train[:,genes], y_train)\n",
    "test = np.zeros(len(X_test[:,genes]))\n",
    "for l in range(len(test)):\n",
    "    if linreg.predict(X_test[:,genes])[l] < 0:\n",
    "        test[l]=-1\n",
    "    else:\n",
    "        test[l] = 1\n",
    "correct = test == y_test\n",
    "print(np.sum(correct))\n",
    "print(len(correct))\n",
    "print('the model was correct', (np.sum(correct)/len(correct))*100, 'percent of the time.')\n"
   ]
  },
  {
   "cell_type": "markdown",
   "metadata": {},
   "source": [
    "### (e) Repeat parts (a)-(d) using N=100 random train/test pairs. Compute the average prediction error on the test set and its standard deviation."
   ]
  },
  {
   "cell_type": "markdown",
   "metadata": {},
   "source": [
    "#### (I am changing the number of cross validation folds from 10 to 5 in order to reduce the computing time. It still takes about 15 minutes to run)"
   ]
  },
  {
   "cell_type": "code",
   "execution_count": 464,
   "metadata": {},
   "outputs": [
    {
     "name": "stdout",
     "output_type": "stream",
     "text": [
      "the average number of correct predictions: 11\n",
      "the standard deviation: 2.91991438230644\n",
      "the model was correct, on average, 66.10053424738915 percent of the time.\n",
      "14.295729466279347 minutes to run this code\n"
     ]
    }
   ],
   "source": [
    "from random import  uniform\n",
    "import time\n",
    "from operator import truediv \n",
    "\n",
    "start_time = time.time()\n",
    "\n",
    "X = pd.read_csv('assay.csv')\n",
    "y = pd.read_csv('pheno.csv')\n",
    "X = X.transpose()\n",
    "for i in range(49):\n",
    "    if y.iloc[i,0] == 'negative':\n",
    "        y.iloc[i,0] = -1\n",
    "    else:\n",
    "        y.iloc[i,0] = 1\n",
    "X = np.array(X)\n",
    "y = np.array(y)\n",
    "y=y.reshape(49)\n",
    "N=100\n",
    "total_correct = []\n",
    "correct_percentage = []\n",
    "alphas = np.exp(np.linspace(np.log(0.01),np.log(1),100))\n",
    "num_alphas = len(alphas)\n",
    "K=5\n",
    "\n",
    "\n",
    "for j in range(N):\n",
    "    X_train, X_test, y_train, y_test = train_test_split(X,y, test_size = uniform(.20, .50), random_state= None)\n",
    "    scores = np.zeros((num_alphas,1))\n",
    "    clf=LassoCV(alphas = alphas, cv = K)\n",
    "    clf.fit(X_train, y_train)    \n",
    "    scores_avg = clf.mse_path_.mean(axis = 1)\n",
    "    min_error= np.argmin(scores_avg)\n",
    "    alpha_min = clf.alphas[min_error]\n",
    "    lasso = Lasso(alpha = alpha_min)\n",
    "    lasso.fit(X_train, y_train)\n",
    "    genes = []\n",
    "    for i in range(len(lasso.coef_)):\n",
    "        if lasso.coef_[i] != 0:\n",
    "            genes.append(i)\n",
    "    while genes == []: #to make sure I don't happen to pick a subset that gets rid of all coefficients \n",
    "        X_train, X_test, y_train, y_test = train_test_split(X,y, test_size = uniform(.20, .50), random_state= None)\n",
    "        scores = np.zeros((num_alphas,1))\n",
    "        clf=LassoCV(alphas = alphas, cv = K)\n",
    "        clf.fit(X_train, y_train)    \n",
    "        scores_avg = clf.mse_path_.mean(axis = 1)\n",
    "        min_error= np.argmin(scores_avg)\n",
    "        alpha_min = clf.alphas[min_error]\n",
    "        lasso = Lasso(alpha = alpha_min)\n",
    "        lasso.fit(X_train, y_train)\n",
    "        genes = []\n",
    "        for i in range(len(lasso.coef_)):\n",
    "            if lasso.coef_[i] != 0:\n",
    "                genes.append(i)       \n",
    "    linreg = LinearRegression()\n",
    "    linreg.fit(X_train[:,genes], y_train)\n",
    "    test = np.zeros(len(X_test[:,genes]))\n",
    "    for l in range(len(test)):\n",
    "        if linreg.predict(X_test[:,genes])[l] < 0:\n",
    "            test[l]=-1\n",
    "        else:\n",
    "            test[l] = 1\n",
    "    correct = test == y_test\n",
    "    total_correct.append(np.sum(correct))\n",
    "    correct_percentage.append(len(correct))\n",
    "\n",
    "avg_total_correct = mean(total_correct)\n",
    "avg_correct_percentage = mean(list(map(truediv, total_correct, correct_percentage)))\n",
    "print('the average number of correct predictions:', avg_total_correct)\n",
    "std = np.std(total_correct)\n",
    "print('the standard deviation:', std)\n",
    "\n",
    "print('the model was correct, on average,', (avg_correct_percentage)*100, 'percent of the time.')\n",
    "\n",
    "print((time.time() - start_time)/60, 'minutes to run this code')"
   ]
  },
  {
   "cell_type": "markdown",
   "metadata": {},
   "source": [
    "#### Implementing this sort of model seems to be accurate about 65% of the time, which isn't bad given the number of genes and the lack of samples."
   ]
  },
  {
   "cell_type": "code",
   "execution_count": null,
   "metadata": {},
   "outputs": [],
   "source": []
  }
 ],
 "metadata": {
  "kernelspec": {
   "display_name": "Python 3",
   "language": "python",
   "name": "python3"
  },
  "language_info": {
   "codemirror_mode": {
    "name": "ipython",
    "version": 3
   },
   "file_extension": ".py",
   "mimetype": "text/x-python",
   "name": "python",
   "nbconvert_exporter": "python",
   "pygments_lexer": "ipython3",
   "version": "3.7.6"
  }
 },
 "nbformat": 4,
 "nbformat_minor": 4
}
